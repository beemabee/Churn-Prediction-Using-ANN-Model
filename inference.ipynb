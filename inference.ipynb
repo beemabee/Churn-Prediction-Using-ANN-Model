{
 "cells": [
  {
   "attachments": {},
   "cell_type": "markdown",
   "metadata": {},
   "source": [
    "# Model Inference"
   ]
  },
  {
   "attachments": {},
   "cell_type": "markdown",
   "metadata": {},
   "source": [
    "## 1. Import Libraries"
   ]
  },
  {
   "cell_type": "code",
   "execution_count": 1,
   "metadata": {},
   "outputs": [],
   "source": [
    "import numpy as np\n",
    "import pandas as pd\n",
    "import pickle\n",
    "import json\n",
    "from tensorflow.keras.models import load_model\n",
    "pd.set_option('display.max_columns', None)"
   ]
  },
  {
   "attachments": {},
   "cell_type": "markdown",
   "metadata": {},
   "source": [
    "## 2. Load Model"
   ]
  },
  {
   "cell_type": "code",
   "execution_count": 2,
   "metadata": {},
   "outputs": [],
   "source": [
    "# load model\n",
    "with open('full_pipeline.pkl', 'rb') as file_1:\n",
    "    full_pipeline = pickle.load(file_1)\n",
    "\n",
    "# load model ANN\n",
    "new_seqModel = load_model('best_model.h5')"
   ]
  },
  {
   "attachments": {},
   "cell_type": "markdown",
   "metadata": {},
   "source": [
    "## 3. Inferencing"
   ]
  },
  {
   "cell_type": "code",
   "execution_count": 3,
   "metadata": {},
   "outputs": [],
   "source": [
    "# load dataset\n",
    "data = pd.read_csv('churn.csv')\n",
    "\n",
    "# sampling entries data\n",
    "data_i = data.sample(n=30)\n",
    "\n",
    "# drop target churn_risk_score\n",
    "data_i = data_i.drop(['churn_risk_score'], axis=1)\n",
    "\n",
    "# # reset index\n",
    "# data_i = data_i.reset_index(drop=True, inplace=True)"
   ]
  },
  {
   "attachments": {},
   "cell_type": "markdown",
   "metadata": {},
   "source": [
    "## 4. Feature Engineering"
   ]
  },
  {
   "cell_type": "code",
   "execution_count": 4,
   "metadata": {},
   "outputs": [],
   "source": [
    "data_i_final = full_pipeline.transform(data_i)"
   ]
  },
  {
   "attachments": {},
   "cell_type": "markdown",
   "metadata": {},
   "source": [
    "## 5. Model Predict"
   ]
  },
  {
   "cell_type": "code",
   "execution_count": 7,
   "metadata": {},
   "outputs": [
    {
     "name": "stdout",
     "output_type": "stream",
     "text": [
      "1/1 [==============================] - 0s 20ms/step\n",
      "    Prediction\n",
      "0            1\n",
      "1            1\n",
      "2            0\n",
      "3            0\n",
      "4            1\n",
      "5            0\n",
      "6            1\n",
      "7            0\n",
      "8            0\n",
      "9            1\n",
      "10           1\n",
      "11           1\n",
      "12           0\n",
      "13           0\n",
      "14           1\n",
      "15           0\n",
      "16           0\n",
      "17           1\n",
      "18           1\n",
      "19           1\n",
      "20           1\n",
      "21           1\n",
      "22           1\n",
      "23           0\n",
      "24           0\n",
      "25           0\n",
      "26           1\n",
      "27           1\n",
      "28           1\n",
      "29           0\n"
     ]
    }
   ],
   "source": [
    "# predict\n",
    "y_pred_i = new_seqModel.predict(data_i_final)\n",
    "y_pred_i = np.where(y_pred_i >= 0.5,1,0)\n",
    "\n",
    "# Membuat DataFrame dari hasil prediksi y_pred_i\n",
    "pred_df = pd.DataFrame(y_pred_i, columns=['Prediction'])\n",
    "\n",
    "# Menampilkan DataFrame dengan hasil prediksi\n",
    "print(pred_df)\n"
   ]
  }
 ],
 "metadata": {
  "kernelspec": {
   "display_name": "Python 3",
   "language": "python",
   "name": "python3"
  },
  "language_info": {
   "codemirror_mode": {
    "name": "ipython",
    "version": 3
   },
   "file_extension": ".py",
   "mimetype": "text/x-python",
   "name": "python",
   "nbconvert_exporter": "python",
   "pygments_lexer": "ipython3",
   "version": "3.11.3"
  },
  "orig_nbformat": 4
 },
 "nbformat": 4,
 "nbformat_minor": 2
}
